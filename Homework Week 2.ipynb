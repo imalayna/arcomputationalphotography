{
 "cells": [
  {
   "cell_type": "markdown",
   "metadata": {},
   "source": [
    "**Homework Week 2**\n",
    "\n",
    "*Computational Photography*\n",
    "\n",
    "This assignment is mostly about practicing manipulating numbers and strings in python. It ends with backing an algorithm out of code.\n"
   ]
  },
  {
   "cell_type": "markdown",
   "metadata": {},
   "source": [
    "Write code that when you run the cell generates a tic-tac-toe board\n",
    "Expected output:\n",
    "\n",
    "```\n",
    "  |  |  \n",
    "--------\n",
    "  |  |  \n",
    "--------\n",
    "  |  |  \n",
    "  \n",
    "```\n",
    "\n",
    "First just use print statements"
   ]
  },
  {
   "cell_type": "code",
   "execution_count": 1,
   "metadata": {
    "collapsed": false
   },
   "outputs": [
    {
     "name": "stdout",
     "output_type": "stream",
     "text": [
      "  |  |  \n",
      "--------\n",
      "  |  |  \n",
      "--------\n",
      "  |  |  \n"
     ]
    }
   ],
   "source": [
    "print('  |  |  ')\n",
    "print('--------')\n",
    "print('  |  |  ')\n",
    "print('--------')\n",
    "print('  |  |  ')"
   ]
  },
  {
   "cell_type": "markdown",
   "metadata": {},
   "source": [
    "Now do it using variables"
   ]
  },
  {
   "cell_type": "code",
   "execution_count": 16,
   "metadata": {
    "collapsed": false,
    "scrolled": false
   },
   "outputs": [
    {
     "name": "stdout",
     "output_type": "stream",
     "text": [
      "  |  |  \n",
      "--------\n",
      "  |  |  \n",
      "--------\n",
      "  |  |  \n"
     ]
    }
   ],
   "source": [
    "a = \"  |  |  \"\n",
    "b = \"--------\"\n",
    "c = \"  |  |  \"\n",
    "d = \"--------\"\n",
    "e = \"  |  |  \"\n",
    "\n",
    "print (a)\n",
    "print (b)\n",
    "print (c)\n",
    "print (d)\n",
    "print (e)"
   ]
  },
  {
   "cell_type": "markdown",
   "metadata": {},
   "source": [
    "Starting with x and y as defined, write code to print the larger number"
   ]
  },
  {
   "cell_type": "code",
   "execution_count": 8,
   "metadata": {
    "collapsed": false
   },
   "outputs": [
    {
     "name": "stdout",
     "output_type": "stream",
     "text": [
      "54\n"
     ]
    }
   ],
   "source": [
    "x = 54\n",
    "y = 23\n",
    "\n",
    "if x > y:\n",
    "    print (x)\n",
    "if y > x:\n",
    "    print (y)"
   ]
  },
  {
   "cell_type": "markdown",
   "metadata": {},
   "source": [
    "Starting with x, y, and z as defined, write code to print the largest number"
   ]
  },
  {
   "cell_type": "code",
   "execution_count": 9,
   "metadata": {
    "collapsed": false
   },
   "outputs": [
    {
     "name": "stdout",
     "output_type": "stream",
     "text": [
      "23\n"
     ]
    }
   ],
   "source": [
    "x = -54\n",
    "y = 23\n",
    "z = 4\n",
    "\n",
    "if x > y > z:\n",
    "    print (x)\n",
    "if y > z > x:\n",
    "    print (y)\n",
    "if z > x > y:\n",
    "    print (z)"
   ]
  },
  {
   "cell_type": "raw",
   "metadata": {},
   "source": [
    "Write a vowel recognizer"
   ]
  },
  {
   "cell_type": "code",
   "execution_count": 4,
   "metadata": {
    "collapsed": false
   },
   "outputs": [
    {
     "ename": "SyntaxError",
     "evalue": "invalid syntax (<ipython-input-4-c775b4c059bf>, line 3)",
     "output_type": "error",
     "traceback": [
      "\u001b[0;36m  File \u001b[0;32m\"<ipython-input-4-c775b4c059bf>\"\u001b[0;36m, line \u001b[0;32m3\u001b[0m\n\u001b[0;31m    char_in in == \"a\"\u001b[0m\n\u001b[0m                ^\u001b[0m\n\u001b[0;31mSyntaxError\u001b[0m\u001b[0;31m:\u001b[0m invalid syntax\n"
     ]
    }
   ],
   "source": [
    "char_in = input(\"Enter a character\")\n",
    "#your code\n",
    "char_in in == \"a\" \n",
    "    or char_in in == \"e\" \n",
    "    or char_in in == \"i\" \n",
    "    or char_in in == \"o\": \n",
    "    or char_in in == \"u\":\n",
    "    print(\"vowel\")\n",
    "else:\n",
    "    print(\"not a vowel\")\n"
   ]
  },
  {
   "cell_type": "code",
   "execution_count": null,
   "metadata": {
    "collapsed": true
   },
   "outputs": [],
   "source": []
  },
  {
   "cell_type": "markdown",
   "metadata": {},
   "source": [
    "Turn the following code into English\n"
   ]
  },
  {
   "cell_type": "code",
   "execution_count": 2,
   "metadata": {
    "collapsed": false
   },
   "outputs": [
    {
     "name": "stdout",
     "output_type": "stream",
     "text": [
      "Pick a number between 1 or 98\n",
      "Pfft\n",
      "Pick a number between 1 or 97\n",
      "Meh\n",
      "Pick a number between 1 or 93\n",
      "OK\n"
     ]
    }
   ],
   "source": [
    "import random\n",
    "a = random.choice(range(1,11))\n",
    "b = 0\n",
    "while (a != b):\n",
    "    b = int(input(\"Pick a number between 1 or 9\"))\n",
    "    if abs(a - b) > 4:\n",
    "        print (\"Pfft\")\n",
    "    elif abs(a - b) > 2:\n",
    "        print (\"Meh\")\n",
    "    elif abs(a - b) > 0:\n",
    "        print (\"Hmmmm\")\n",
    "    else:\n",
    "        print (\"OK\") \n"
   ]
  },
  {
   "cell_type": "markdown",
   "metadata": {},
   "source": [
    "Now modify it into readable code. Be sure to make variables for all the numbers"
   ]
  },
  {
   "cell_type": "code",
   "execution_count": null,
   "metadata": {
    "collapsed": false
   },
   "outputs": [
    {
     "name": "stdout",
     "output_type": "stream",
     "text": [
      "On a scale of 1-10, how are you feeling today?3\n",
      "That's awesome\n",
      "On a scale of 1-10, how are you feeling today?2\n",
      "That's awesome\n",
      "On a scale of 1-10, how are you feeling today?3\n",
      "That's awesome\n",
      "On a scale of 1-10, how are you feeling today?6\n",
      "That's awesome\n",
      "On a scale of 1-10, how are you feeling today?9\n",
      "That's awesome\n"
     ]
    }
   ],
   "source": [
    "import random\n",
    "a = random.choice(range(1,11))\n",
    "b = 0\n",
    "while (a != b):\n",
    "    b = int(input(\"On a scale of 1-10, how are you feeling today?\"))\n",
    "    if abs(a + b) > 7:\n",
    "        print (\"That's awesome\")\n",
    "    elif abs(a + b) > 4:\n",
    "        print (\"Oh, okay\")\n",
    "    elif abs(a + b) > 1:\n",
    "        print (\"Things will be ok\")\n",
    "    else:\n",
    "        print (\"OK\") \n"
   ]
  },
  {
   "cell_type": "markdown",
   "metadata": {},
   "source": [
    "Write an algorithm to print the lyrics to \"99 Bottles of Beer on the Wall\"\n",
    "99 bottles of beer on the wall, 99 bottles of beer.\n",
    "Take one down, pass it around, 98 bottles of beer on the wall.\n",
    "98 bottles of beer on the wall, 98 bottles of beer.\n",
    "Take one down, pass it around, 97 bottles of beer on the wall.\n",
    "...\n",
    "no more bottles of beer on the wall.\n"
   ]
  },
  {
   "cell_type": "code",
   "execution_count": null,
   "metadata": {
    "collapsed": true
   },
   "outputs": [],
   "source": []
  },
  {
   "cell_type": "markdown",
   "metadata": {},
   "source": [
    "For the brave, implement your algorithm in Python"
   ]
  },
  {
   "cell_type": "code",
   "execution_count": null,
   "metadata": {
    "collapsed": true
   },
   "outputs": [],
   "source": []
  }
 ],
 "metadata": {
  "kernelspec": {
   "display_name": "Python 3",
   "language": "python",
   "name": "python3"
  },
  "language_info": {
   "codemirror_mode": {
    "name": "ipython",
    "version": 3
   },
   "file_extension": ".py",
   "mimetype": "text/x-python",
   "name": "python",
   "nbconvert_exporter": "python",
   "pygments_lexer": "ipython3",
   "version": "3.5.1"
  }
 },
 "nbformat": 4,
 "nbformat_minor": 0
}
