{
 "cells": [
  {
   "cell_type": "markdown",
   "metadata": {},
   "source": [
    "**Homework Week 2**\n",
    "\n",
    "*Computational Photography*\n",
    "\n",
    "This assignment is mostly about practicing manipulating numbers and strings in python. It ends with backing an algorithm out of code.\n"
   ]
  },
  {
   "cell_type": "markdown",
   "metadata": {},
   "source": [
    "Write code that when you run the cell generates a tic-tac-toe board\n",
    "Expected output:\n",
    "\n",
    "```\n",
    "  |  |  \n",
    "--------\n",
    "  |  |  \n",
    "--------\n",
    "  |  |  \n",
    "  \n",
    "```\n",
    "\n",
    "First just use print statements"
   ]
  },
  {
   "cell_type": "code",
   "execution_count": 1,
   "metadata": {
    "collapsed": false
   },
   "outputs": [
    {
     "name": "stdout",
     "output_type": "stream",
     "text": [
      "  |  |  \n",
      "--------\n",
      "  |  |  \n",
      "--------\n",
      "  |  |  \n"
     ]
    }
   ],
   "source": [
    "print('  |  |  ')\n",
    "print('--------')\n",
    "print('  |  |  ')\n",
    "print('--------')\n",
    "print('  |  |  ')"
   ]
  },
  {
   "cell_type": "markdown",
   "metadata": {},
   "source": [
    "Now do it using variables"
   ]
  },
  {
   "cell_type": "code",
   "execution_count": 16,
   "metadata": {
    "collapsed": false,
    "scrolled": false
   },
   "outputs": [
    {
     "name": "stdout",
     "output_type": "stream",
     "text": [
      "  |  |  \n",
      "--------\n",
      "  |  |  \n",
      "--------\n",
      "  |  |  \n"
     ]
    }
   ],
   "source": [
    "a = \"  |  |  \"\n",
    "b = \"--------\"\n",
    "c = \"  |  |  \"\n",
    "d = \"--------\"\n",
    "e = \"  |  |  \"\n",
    "\n",
    "print (a)\n",
    "print (b)\n",
    "print (c)\n",
    "print (d)\n",
    "print (e)"
   ]
  },
  {
   "cell_type": "markdown",
   "metadata": {},
   "source": [
    "Starting with x and y as defined, write code to print the larger number"
   ]
  },
  {
   "cell_type": "code",
   "execution_count": 8,
   "metadata": {
    "collapsed": false
   },
   "outputs": [
    {
     "name": "stdout",
     "output_type": "stream",
     "text": [
      "54\n"
     ]
    }
   ],
   "source": [
    "x = 54\n",
    "y = 23\n",
    "\n",
    "if x > y:\n",
    "    print (x)\n",
    "if y > x:\n",
    "    print (y)"
   ]
  },
  {
   "cell_type": "markdown",
   "metadata": {},
   "source": [
    "Starting with x, y, and z as defined, write code to print the largest number"
   ]
  },
  {
   "cell_type": "code",
   "execution_count": 9,
   "metadata": {
    "collapsed": false
   },
   "outputs": [
    {
     "name": "stdout",
     "output_type": "stream",
     "text": [
      "23\n"
     ]
    }
   ],
   "source": [
    "x = -54\n",
    "y = 23\n",
    "z = 4\n",
    "\n",
    "if x > y > z:\n",
    "    print (x)\n",
    "if y > z > x:\n",
    "    print (y)\n",
    "if z > x > y:\n",
    "    print (z)"
   ]
  },
  {
   "cell_type": "raw",
   "metadata": {},
   "source": [
    "Write a vowel recognizer"
   ]
  },
  {
   "cell_type": "code",
   "execution_count": 4,
   "metadata": {
    "collapsed": false
   },
   "outputs": [
    {
     "ename": "SyntaxError",
     "evalue": "invalid syntax (<ipython-input-4-c775b4c059bf>, line 3)",
     "output_type": "error",
     "traceback": [
      "\u001b[0;36m  File \u001b[0;32m\"<ipython-input-4-c775b4c059bf>\"\u001b[0;36m, line \u001b[0;32m3\u001b[0m\n\u001b[0;31m    char_in in == \"a\"\u001b[0m\n\u001b[0m                ^\u001b[0m\n\u001b[0;31mSyntaxError\u001b[0m\u001b[0;31m:\u001b[0m invalid syntax\n"
     ]
    }
   ],
   "source": [
    "char_in = input(\"Enter a character\")\n",
    "#your code\n",
    "char_in in == \"a\" \n",
    "    or char_in in == \"e\" \n",
    "    or char_in in == \"i\" \n",
    "    or char_in in == \"o\": \n",
    "    or char_in in == \"u\":\n",
    "    print(\"vowel\")\n",
    "else:\n",
    "    print(\"not a vowel\")\n"
   ]
  },
  {
   "cell_type": "code",
   "execution_count": null,
   "metadata": {
    "collapsed": true
   },
   "outputs": [],
   "source": []
  },
  {
   "cell_type": "markdown",
   "metadata": {},
   "source": [
    "Turn the following code into English\n"
   ]
  },
  {
   "cell_type": "code",
   "execution_count": 2,
   "metadata": {
    "collapsed": false
   },
   "outputs": [
    {
     "name": "stdout",
     "output_type": "stream",
     "text": [
      "Pick a number between 1 or 98\n",
      "Pfft\n",
      "Pick a number between 1 or 97\n",
      "Meh\n",
      "Pick a number between 1 or 93\n",
      "OK\n"
     ]
    }
   ],
   "source": [
    "import random\n",
    "a = random.choice(range(1,11))\n",
    "b = 0\n",
    "while (a != b):\n",
    "    b = int(input(\"Pick a number between 1 or 9\"))\n",
    "    if abs(a - b) > 4:\n",
    "        print (\"Pfft\")\n",
    "    elif abs(a - b) > 2:\n",
    "        print (\"Meh\")\n",
    "    elif abs(a - b) > 0:\n",
    "        print (\"Hmmmm\")\n",
    "    else:\n",
    "        print (\"OK\") \n"
   ]
  },
  {
   "cell_type": "markdown",
   "metadata": {},
   "source": [
    "Now modify it into readable code. Be sure to make variables for all the numbers"
   ]
  },
  {
   "cell_type": "code",
   "execution_count": 1,
   "metadata": {
    "collapsed": false
   },
   "outputs": [
    {
     "name": "stdout",
     "output_type": "stream",
     "text": [
      "On a scale of 1-10, how are you feeling today?9\n",
      "That's awesome!\n",
      "On a scale of 1-10, how are you feeling today?7\n",
      "That's awesome!\n",
      "On a scale of 1-10, how are you feeling today?4\n",
      "Things will be ok.\n",
      "On a scale of 1-10, how are you feeling today?2\n",
      "OK\n"
     ]
    }
   ],
   "source": [
    "import random\n",
    "a = random.choice(range(1,11))\n",
    "b = 0\n",
    "while (a != b):\n",
    "    b = int(input(\"On a scale of 1-10, how are you feeling today?\"))\n",
    "    if abs(a - b) > 4:\n",
    "        print (\"That's awesome!\")\n",
    "    elif abs(a - b) > 2:\n",
    "        print (\"Oh, okay.\")\n",
    "    elif abs(a - b) > 0:\n",
    "        print (\"Things will be ok.\")\n",
    "    else:\n",
    "        print (\"OK\") \n"
   ]
  },
  {
   "cell_type": "markdown",
   "metadata": {},
   "source": [
    "Write an algorithm to print the lyrics to \"99 Bottles of Beer on the Wall\"\n",
    "99 bottles of beer on the wall, 99 bottles of beer.\n",
    "Take one down, pass it around, 98 bottles of beer on the wall.\n",
    "98 bottles of beer on the wall, 98 bottles of beer.\n",
    "Take one down, pass it around, 97 bottles of beer on the wall.\n",
    "...\n",
    "no more bottles of beer on the wall.\n"
   ]
  },
  {
   "cell_type": "code",
   "execution_count": 2,
   "metadata": {
    "collapsed": false
   },
   "outputs": [
    {
     "name": "stdout",
     "output_type": "stream",
     "text": [
      "99 bottles of beer on the wall,\n",
      "99 bottles of beer.\n",
      "take one down, pass one around,\n",
      "98 bottles of beer on the wall,\n",
      "98 bottles of beer.\n",
      "take one down, pass one around,\n",
      "97 bottles of beer on the wall,\n",
      "97 bottles of beer.\n",
      "take one down, pass one around,\n",
      "96 bottles of beer on the wall,\n",
      "96 bottles of beer.\n",
      "take one down, pass one around,\n",
      "95 bottles of beer on the wall,\n",
      "95 bottles of beer.\n",
      "take one down, pass one around,\n",
      "94 bottles of beer on the wall,\n",
      "94 bottles of beer.\n",
      "take one down, pass one around,\n",
      "93 bottles of beer on the wall,\n",
      "93 bottles of beer.\n",
      "take one down, pass one around,\n",
      "92 bottles of beer on the wall,\n",
      "92 bottles of beer.\n",
      "take one down, pass one around,\n",
      "91 bottles of beer on the wall,\n",
      "91 bottles of beer.\n",
      "take one down, pass one around,\n",
      "90 bottles of beer on the wall,\n",
      "90 bottles of beer.\n",
      "take one down, pass one around,\n",
      "89 bottles of beer on the wall,\n",
      "89 bottles of beer.\n",
      "take one down, pass one around,\n",
      "88 bottles of beer on the wall,\n",
      "88 bottles of beer.\n",
      "take one down, pass one around,\n",
      "87 bottles of beer on the wall,\n",
      "87 bottles of beer.\n",
      "take one down, pass one around,\n",
      "86 bottles of beer on the wall,\n",
      "86 bottles of beer.\n",
      "take one down, pass one around,\n",
      "85 bottles of beer on the wall,\n",
      "85 bottles of beer.\n",
      "take one down, pass one around,\n",
      "84 bottles of beer on the wall,\n",
      "84 bottles of beer.\n",
      "take one down, pass one around,\n",
      "83 bottles of beer on the wall,\n",
      "83 bottles of beer.\n",
      "take one down, pass one around,\n",
      "82 bottles of beer on the wall,\n",
      "82 bottles of beer.\n",
      "take one down, pass one around,\n",
      "81 bottles of beer on the wall,\n",
      "81 bottles of beer.\n",
      "take one down, pass one around,\n",
      "80 bottles of beer on the wall,\n",
      "80 bottles of beer.\n",
      "take one down, pass one around,\n",
      "79 bottles of beer on the wall,\n",
      "79 bottles of beer.\n",
      "take one down, pass one around,\n",
      "78 bottles of beer on the wall,\n",
      "78 bottles of beer.\n",
      "take one down, pass one around,\n",
      "77 bottles of beer on the wall,\n",
      "77 bottles of beer.\n",
      "take one down, pass one around,\n",
      "76 bottles of beer on the wall,\n",
      "76 bottles of beer.\n",
      "take one down, pass one around,\n",
      "75 bottles of beer on the wall,\n",
      "75 bottles of beer.\n",
      "take one down, pass one around,\n",
      "74 bottles of beer on the wall,\n",
      "74 bottles of beer.\n",
      "take one down, pass one around,\n",
      "73 bottles of beer on the wall,\n",
      "73 bottles of beer.\n",
      "take one down, pass one around,\n",
      "72 bottles of beer on the wall,\n",
      "72 bottles of beer.\n",
      "take one down, pass one around,\n",
      "71 bottles of beer on the wall,\n",
      "71 bottles of beer.\n",
      "take one down, pass one around,\n",
      "70 bottles of beer on the wall,\n",
      "70 bottles of beer.\n",
      "take one down, pass one around,\n",
      "69 bottles of beer on the wall,\n",
      "69 bottles of beer.\n",
      "take one down, pass one around,\n",
      "68 bottles of beer on the wall,\n",
      "68 bottles of beer.\n",
      "take one down, pass one around,\n",
      "67 bottles of beer on the wall,\n",
      "67 bottles of beer.\n",
      "take one down, pass one around,\n",
      "66 bottles of beer on the wall,\n",
      "66 bottles of beer.\n",
      "take one down, pass one around,\n",
      "65 bottles of beer on the wall,\n",
      "65 bottles of beer.\n",
      "take one down, pass one around,\n",
      "64 bottles of beer on the wall,\n",
      "64 bottles of beer.\n",
      "take one down, pass one around,\n",
      "63 bottles of beer on the wall,\n",
      "63 bottles of beer.\n",
      "take one down, pass one around,\n",
      "62 bottles of beer on the wall,\n",
      "62 bottles of beer.\n",
      "take one down, pass one around,\n",
      "61 bottles of beer on the wall,\n",
      "61 bottles of beer.\n",
      "take one down, pass one around,\n",
      "60 bottles of beer on the wall,\n",
      "60 bottles of beer.\n",
      "take one down, pass one around,\n",
      "59 bottles of beer on the wall,\n",
      "59 bottles of beer.\n",
      "take one down, pass one around,\n",
      "58 bottles of beer on the wall,\n",
      "58 bottles of beer.\n",
      "take one down, pass one around,\n",
      "57 bottles of beer on the wall,\n",
      "57 bottles of beer.\n",
      "take one down, pass one around,\n",
      "56 bottles of beer on the wall,\n",
      "56 bottles of beer.\n",
      "take one down, pass one around,\n",
      "55 bottles of beer on the wall,\n",
      "55 bottles of beer.\n",
      "take one down, pass one around,\n",
      "54 bottles of beer on the wall,\n",
      "54 bottles of beer.\n",
      "take one down, pass one around,\n",
      "53 bottles of beer on the wall,\n",
      "53 bottles of beer.\n",
      "take one down, pass one around,\n",
      "52 bottles of beer on the wall,\n",
      "52 bottles of beer.\n",
      "take one down, pass one around,\n",
      "51 bottles of beer on the wall,\n",
      "51 bottles of beer.\n",
      "take one down, pass one around,\n",
      "50 bottles of beer on the wall,\n",
      "50 bottles of beer.\n",
      "take one down, pass one around,\n",
      "49 bottles of beer on the wall,\n",
      "49 bottles of beer.\n",
      "take one down, pass one around,\n",
      "48 bottles of beer on the wall,\n",
      "48 bottles of beer.\n",
      "take one down, pass one around,\n",
      "47 bottles of beer on the wall,\n",
      "47 bottles of beer.\n",
      "take one down, pass one around,\n",
      "46 bottles of beer on the wall,\n",
      "46 bottles of beer.\n",
      "take one down, pass one around,\n",
      "45 bottles of beer on the wall,\n",
      "45 bottles of beer.\n",
      "take one down, pass one around,\n",
      "44 bottles of beer on the wall,\n",
      "44 bottles of beer.\n",
      "take one down, pass one around,\n",
      "43 bottles of beer on the wall,\n",
      "43 bottles of beer.\n",
      "take one down, pass one around,\n",
      "42 bottles of beer on the wall,\n",
      "42 bottles of beer.\n",
      "take one down, pass one around,\n",
      "41 bottles of beer on the wall,\n",
      "41 bottles of beer.\n",
      "take one down, pass one around,\n",
      "40 bottles of beer on the wall,\n",
      "40 bottles of beer.\n",
      "take one down, pass one around,\n",
      "39 bottles of beer on the wall,\n",
      "39 bottles of beer.\n",
      "take one down, pass one around,\n",
      "38 bottles of beer on the wall,\n",
      "38 bottles of beer.\n",
      "take one down, pass one around,\n",
      "37 bottles of beer on the wall,\n",
      "37 bottles of beer.\n",
      "take one down, pass one around,\n",
      "36 bottles of beer on the wall,\n",
      "36 bottles of beer.\n",
      "take one down, pass one around,\n",
      "35 bottles of beer on the wall,\n",
      "35 bottles of beer.\n",
      "take one down, pass one around,\n",
      "34 bottles of beer on the wall,\n",
      "34 bottles of beer.\n",
      "take one down, pass one around,\n",
      "33 bottles of beer on the wall,\n",
      "33 bottles of beer.\n",
      "take one down, pass one around,\n",
      "32 bottles of beer on the wall,\n",
      "32 bottles of beer.\n",
      "take one down, pass one around,\n",
      "31 bottles of beer on the wall,\n",
      "31 bottles of beer.\n",
      "take one down, pass one around,\n",
      "30 bottles of beer on the wall,\n",
      "30 bottles of beer.\n",
      "take one down, pass one around,\n",
      "29 bottles of beer on the wall,\n",
      "29 bottles of beer.\n",
      "take one down, pass one around,\n",
      "28 bottles of beer on the wall,\n",
      "28 bottles of beer.\n",
      "take one down, pass one around,\n",
      "27 bottles of beer on the wall,\n",
      "27 bottles of beer.\n",
      "take one down, pass one around,\n",
      "26 bottles of beer on the wall,\n",
      "26 bottles of beer.\n",
      "take one down, pass one around,\n",
      "25 bottles of beer on the wall,\n",
      "25 bottles of beer.\n",
      "take one down, pass one around,\n",
      "24 bottles of beer on the wall,\n",
      "24 bottles of beer.\n",
      "take one down, pass one around,\n",
      "23 bottles of beer on the wall,\n",
      "23 bottles of beer.\n",
      "take one down, pass one around,\n",
      "22 bottles of beer on the wall,\n",
      "22 bottles of beer.\n",
      "take one down, pass one around,\n",
      "21 bottles of beer on the wall,\n",
      "21 bottles of beer.\n",
      "take one down, pass one around,\n",
      "20 bottles of beer on the wall,\n",
      "20 bottles of beer.\n",
      "take one down, pass one around,\n",
      "19 bottles of beer on the wall,\n",
      "19 bottles of beer.\n",
      "take one down, pass one around,\n",
      "18 bottles of beer on the wall,\n",
      "18 bottles of beer.\n",
      "take one down, pass one around,\n",
      "17 bottles of beer on the wall,\n",
      "17 bottles of beer.\n",
      "take one down, pass one around,\n",
      "16 bottles of beer on the wall,\n",
      "16 bottles of beer.\n",
      "take one down, pass one around,\n",
      "15 bottles of beer on the wall,\n",
      "15 bottles of beer.\n",
      "take one down, pass one around,\n",
      "14 bottles of beer on the wall,\n",
      "14 bottles of beer.\n",
      "take one down, pass one around,\n",
      "13 bottles of beer on the wall,\n",
      "13 bottles of beer.\n",
      "take one down, pass one around,\n",
      "12 bottles of beer on the wall,\n",
      "12 bottles of beer.\n",
      "take one down, pass one around,\n",
      "11 bottles of beer on the wall,\n",
      "11 bottles of beer.\n",
      "take one down, pass one around,\n",
      "10 bottles of beer on the wall,\n",
      "10 bottles of beer.\n",
      "take one down, pass one around,\n",
      "9 bottles of beer on the wall,\n",
      "9 bottles of beer.\n",
      "take one down, pass one around,\n",
      "8 bottles of beer on the wall,\n",
      "8 bottles of beer.\n",
      "take one down, pass one around,\n",
      "7 bottles of beer on the wall,\n",
      "7 bottles of beer.\n",
      "take one down, pass one around,\n",
      "6 bottles of beer on the wall,\n",
      "6 bottles of beer.\n",
      "take one down, pass one around,\n",
      "5 bottles of beer on the wall,\n",
      "5 bottles of beer.\n",
      "take one down, pass one around,\n",
      "4 bottles of beer on the wall,\n",
      "4 bottles of beer.\n",
      "take one down, pass one around,\n",
      "3 bottles of beer on the wall,\n",
      "3 bottles of beer.\n",
      "take one down, pass one around,\n",
      "2 bottles of beer on the wall,\n",
      "2 bottles of beer.\n",
      "take one down, pass one around,\n",
      "1 bottles of beer on the wall,\n",
      "1 bottles of beer.\n",
      "take one down, pass one around,\n",
      "there are no more bottles of beer on the wall.\n"
     ]
    }
   ],
   "source": [
    "bottles_of_beer = 99\n",
    "while bottles_of_beer > 0:\n",
    "    print (bottles_of_beer, \"bottles of beer on the wall,\")\n",
    "    print (bottles_of_beer, \"bottles of beer.\")\n",
    "    bottles_of_beer = bottles_of_beer - 1 \n",
    "    print (\"take one down, pass one around,\")\n",
    "if (bottles_of_beer) == 0:\n",
    "    print (\"there are no more bottles of beer on the wall.\")\n",
    "if (bottles_of_beer) == 1:\n",
    "    print (bottles_of_beer, \"bottle of beer on the wall.\")\n"
   ]
  },
  {
   "cell_type": "markdown",
   "metadata": {},
   "source": [
    "For the brave, implement your algorithm in Python"
   ]
  },
  {
   "cell_type": "code",
   "execution_count": null,
   "metadata": {
    "collapsed": true
   },
   "outputs": [],
   "source": []
  }
 ],
 "metadata": {
  "kernelspec": {
   "display_name": "Python 3",
   "language": "python",
   "name": "python3"
  },
  "language_info": {
   "codemirror_mode": {
    "name": "ipython",
    "version": 3
   },
   "file_extension": ".py",
   "mimetype": "text/x-python",
   "name": "python",
   "nbconvert_exporter": "python",
   "pygments_lexer": "ipython3",
   "version": "3.5.1"
  }
 },
 "nbformat": 4,
 "nbformat_minor": 0
}
